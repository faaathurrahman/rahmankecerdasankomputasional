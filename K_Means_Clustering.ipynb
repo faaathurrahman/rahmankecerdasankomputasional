{
  "nbformat": 4,
  "nbformat_minor": 0,
  "metadata": {
    "colab": {
      "provenance": []
    },
    "kernelspec": {
      "name": "python3",
      "display_name": "Python 3"
    },
    "language_info": {
      "name": "python"
    }
  },
  "cells": [
    {
      "cell_type": "code",
      "source": [
        "import matplotlib as plt\n",
        "from sklearn.datasets import make_blobs\n",
        "from sklearn.cluster import KMeans\n",
        "from sklearn.metrics import silhouette_score\n",
        "from sklearn.preprocessing import StandardScaler"
      ],
      "metadata": {
        "id": "S6ePUqDTGwHm"
      },
      "execution_count": 15,
      "outputs": []
    },
    {
      "cell_type": "code",
      "source": [
        "features, true_label = make_blobs(\n",
        "    n_samples=290,\n",
        "    centers=5,\n",
        "    cluster_std=29,\n",
        "    random_state=42\n",
        ")"
      ],
      "metadata": {
        "id": "nkPblt_CGxB_"
      },
      "execution_count": 16,
      "outputs": []
    },
    {
      "cell_type": "code",
      "source": [
        "features[:10]"
      ],
      "metadata": {
        "colab": {
          "base_uri": "https://localhost:8080/"
        },
        "id": "9QCDzpecHyL3",
        "outputId": "900990e6-9eb7-4f90-a56d-73a23800f129"
      },
      "execution_count": 17,
      "outputs": [
        {
          "output_type": "execute_result",
          "data": {
            "text/plain": [
              "array([[  4.50770825, -46.47084097],\n",
              "       [ 71.76497727, -52.1775209 ],\n",
              "       [ 27.28491663,  -5.29323088],\n",
              "       [-46.66794327,  26.74402683],\n",
              "       [ 39.11486048, -42.77675906],\n",
              "       [  2.40392926,  11.86657695],\n",
              "       [  1.79109364,  47.07983158],\n",
              "       [ 28.88144911,  59.53453413],\n",
              "       [-58.15356287,   8.24538374],\n",
              "       [-16.40525052,   3.6301758 ]])"
            ]
          },
          "metadata": {},
          "execution_count": 17
        }
      ]
    },
    {
      "cell_type": "code",
      "source": [
        "true_label[:200]"
      ],
      "metadata": {
        "id": "agqrrSs7H4VM",
        "colab": {
          "base_uri": "https://localhost:8080/"
        },
        "outputId": "ec68e98e-c399-4d2b-cd36-4591a4019a91"
      },
      "execution_count": 18,
      "outputs": [
        {
          "output_type": "execute_result",
          "data": {
            "text/plain": [
              "array([0, 1, 4, 3, 2, 1, 4, 4, 0, 0, 1, 1, 3, 3, 2, 0, 4, 0, 1, 4, 2, 3,\n",
              "       1, 4, 1, 2, 2, 2, 1, 3, 0, 3, 0, 3, 0, 1, 1, 0, 4, 4, 0, 0, 0, 0,\n",
              "       4, 0, 3, 0, 3, 3, 1, 1, 1, 2, 0, 1, 2, 1, 3, 2, 0, 3, 4, 3, 0, 0,\n",
              "       3, 0, 3, 4, 4, 1, 0, 1, 3, 3, 0, 4, 4, 2, 0, 1, 4, 4, 0, 4, 2, 1,\n",
              "       4, 0, 2, 1, 0, 1, 0, 4, 4, 0, 1, 2, 4, 4, 0, 3, 3, 2, 4, 1, 3, 0,\n",
              "       3, 2, 4, 1, 4, 4, 3, 4, 0, 4, 1, 2, 3, 1, 2, 3, 1, 2, 1, 4, 2, 1,\n",
              "       2, 3, 4, 2, 2, 1, 3, 0, 2, 2, 2, 3, 1, 3, 1, 4, 0, 0, 2, 0, 3, 3,\n",
              "       0, 1, 4, 4, 4, 1, 2, 4, 3, 4, 4, 4, 1, 1, 1, 0, 1, 2, 3, 2, 4, 3,\n",
              "       3, 2, 1, 3, 2, 3, 3, 1, 4, 2, 0, 1, 2, 2, 4, 4, 1, 3, 0, 4, 0, 2,\n",
              "       2, 2])"
            ]
          },
          "metadata": {},
          "execution_count": 18
        }
      ]
    },
    {
      "cell_type": "code",
      "source": [
        "standard_skala = StandardScaler()\n",
        "skala_fitur = standard_skala.fit_transform(features)"
      ],
      "metadata": {
        "id": "TwN5RrbbI2aJ"
      },
      "execution_count": 19,
      "outputs": []
    },
    {
      "cell_type": "code",
      "source": [
        "skala_fitur[:10]"
      ],
      "metadata": {
        "colab": {
          "base_uri": "https://localhost:8080/"
        },
        "id": "yXpt4mI4Oyf8",
        "outputId": "5e315d2a-0cd1-4106-9428-fdeb46bf9800"
      },
      "execution_count": 20,
      "outputs": [
        {
          "output_type": "execute_result",
          "data": {
            "text/plain": [
              "array([[ 0.26345317, -1.70942754],\n",
              "       [ 2.60613819, -1.90802183],\n",
              "       [ 1.05682206, -0.27643348],\n",
              "       [-1.51908176,  0.83847338],\n",
              "       [ 1.46887912, -1.5808723 ],\n",
              "       [ 0.19017498,  0.32073334],\n",
              "       [ 0.16882887,  1.54616592],\n",
              "       [ 1.112432  ,  1.97959357],\n",
              "       [-1.91914542,  0.19471466],\n",
              "       [-0.46498073,  0.03410394]])"
            ]
          },
          "metadata": {},
          "execution_count": 20
        }
      ]
    },
    {
      "cell_type": "code",
      "source": [
        "metode_kmeans = KMeans(\n",
        "    init=\"random\",\n",
        "    n_clusters=5,\n",
        "    n_init=10,\n",
        "    max_iter=100,\n",
        "    random_state=41\n",
        "    )"
      ],
      "metadata": {
        "id": "5lWkbEx6PDq_"
      },
      "execution_count": 21,
      "outputs": []
    },
    {
      "cell_type": "code",
      "source": [
        "metode_kmeans.fit(skala_fitur)"
      ],
      "metadata": {
        "colab": {
          "base_uri": "https://localhost:8080/",
          "height": 74
        },
        "id": "ZmyPuP06R2Gc",
        "outputId": "f9513c40-fda7-4bbc-f944-f6dd6c5b5356"
      },
      "execution_count": 22,
      "outputs": [
        {
          "output_type": "execute_result",
          "data": {
            "text/plain": [
              "KMeans(init='random', max_iter=100, n_clusters=5, n_init=10, random_state=41)"
            ],
            "text/html": [
              "<style>#sk-container-id-2 {color: black;background-color: white;}#sk-container-id-2 pre{padding: 0;}#sk-container-id-2 div.sk-toggleable {background-color: white;}#sk-container-id-2 label.sk-toggleable__label {cursor: pointer;display: block;width: 100%;margin-bottom: 0;padding: 0.3em;box-sizing: border-box;text-align: center;}#sk-container-id-2 label.sk-toggleable__label-arrow:before {content: \"▸\";float: left;margin-right: 0.25em;color: #696969;}#sk-container-id-2 label.sk-toggleable__label-arrow:hover:before {color: black;}#sk-container-id-2 div.sk-estimator:hover label.sk-toggleable__label-arrow:before {color: black;}#sk-container-id-2 div.sk-toggleable__content {max-height: 0;max-width: 0;overflow: hidden;text-align: left;background-color: #f0f8ff;}#sk-container-id-2 div.sk-toggleable__content pre {margin: 0.2em;color: black;border-radius: 0.25em;background-color: #f0f8ff;}#sk-container-id-2 input.sk-toggleable__control:checked~div.sk-toggleable__content {max-height: 200px;max-width: 100%;overflow: auto;}#sk-container-id-2 input.sk-toggleable__control:checked~label.sk-toggleable__label-arrow:before {content: \"▾\";}#sk-container-id-2 div.sk-estimator input.sk-toggleable__control:checked~label.sk-toggleable__label {background-color: #d4ebff;}#sk-container-id-2 div.sk-label input.sk-toggleable__control:checked~label.sk-toggleable__label {background-color: #d4ebff;}#sk-container-id-2 input.sk-hidden--visually {border: 0;clip: rect(1px 1px 1px 1px);clip: rect(1px, 1px, 1px, 1px);height: 1px;margin: -1px;overflow: hidden;padding: 0;position: absolute;width: 1px;}#sk-container-id-2 div.sk-estimator {font-family: monospace;background-color: #f0f8ff;border: 1px dotted black;border-radius: 0.25em;box-sizing: border-box;margin-bottom: 0.5em;}#sk-container-id-2 div.sk-estimator:hover {background-color: #d4ebff;}#sk-container-id-2 div.sk-parallel-item::after {content: \"\";width: 100%;border-bottom: 1px solid gray;flex-grow: 1;}#sk-container-id-2 div.sk-label:hover label.sk-toggleable__label {background-color: #d4ebff;}#sk-container-id-2 div.sk-serial::before {content: \"\";position: absolute;border-left: 1px solid gray;box-sizing: border-box;top: 0;bottom: 0;left: 50%;z-index: 0;}#sk-container-id-2 div.sk-serial {display: flex;flex-direction: column;align-items: center;background-color: white;padding-right: 0.2em;padding-left: 0.2em;position: relative;}#sk-container-id-2 div.sk-item {position: relative;z-index: 1;}#sk-container-id-2 div.sk-parallel {display: flex;align-items: stretch;justify-content: center;background-color: white;position: relative;}#sk-container-id-2 div.sk-item::before, #sk-container-id-2 div.sk-parallel-item::before {content: \"\";position: absolute;border-left: 1px solid gray;box-sizing: border-box;top: 0;bottom: 0;left: 50%;z-index: -1;}#sk-container-id-2 div.sk-parallel-item {display: flex;flex-direction: column;z-index: 1;position: relative;background-color: white;}#sk-container-id-2 div.sk-parallel-item:first-child::after {align-self: flex-end;width: 50%;}#sk-container-id-2 div.sk-parallel-item:last-child::after {align-self: flex-start;width: 50%;}#sk-container-id-2 div.sk-parallel-item:only-child::after {width: 0;}#sk-container-id-2 div.sk-dashed-wrapped {border: 1px dashed gray;margin: 0 0.4em 0.5em 0.4em;box-sizing: border-box;padding-bottom: 0.4em;background-color: white;}#sk-container-id-2 div.sk-label label {font-family: monospace;font-weight: bold;display: inline-block;line-height: 1.2em;}#sk-container-id-2 div.sk-label-container {text-align: center;}#sk-container-id-2 div.sk-container {/* jupyter's `normalize.less` sets `[hidden] { display: none; }` but bootstrap.min.css set `[hidden] { display: none !important; }` so we also need the `!important` here to be able to override the default hidden behavior on the sphinx rendered scikit-learn.org. See: https://github.com/scikit-learn/scikit-learn/issues/21755 */display: inline-block !important;position: relative;}#sk-container-id-2 div.sk-text-repr-fallback {display: none;}</style><div id=\"sk-container-id-2\" class=\"sk-top-container\"><div class=\"sk-text-repr-fallback\"><pre>KMeans(init=&#x27;random&#x27;, max_iter=100, n_clusters=5, n_init=10, random_state=41)</pre><b>In a Jupyter environment, please rerun this cell to show the HTML representation or trust the notebook. <br />On GitHub, the HTML representation is unable to render, please try loading this page with nbviewer.org.</b></div><div class=\"sk-container\" hidden><div class=\"sk-item\"><div class=\"sk-estimator sk-toggleable\"><input class=\"sk-toggleable__control sk-hidden--visually\" id=\"sk-estimator-id-2\" type=\"checkbox\" checked><label for=\"sk-estimator-id-2\" class=\"sk-toggleable__label sk-toggleable__label-arrow\">KMeans</label><div class=\"sk-toggleable__content\"><pre>KMeans(init=&#x27;random&#x27;, max_iter=100, n_clusters=5, n_init=10, random_state=41)</pre></div></div></div></div></div>"
            ]
          },
          "metadata": {},
          "execution_count": 22
        }
      ]
    },
    {
      "cell_type": "code",
      "source": [
        "metode_kmeans.inertia_"
      ],
      "metadata": {
        "id": "b3JVLMkcSNaE",
        "colab": {
          "base_uri": "https://localhost:8080/"
        },
        "outputId": "ca3dd828-593d-47e9-c059-c3101a277a5d"
      },
      "execution_count": 23,
      "outputs": [
        {
          "output_type": "execute_result",
          "data": {
            "text/plain": [
              "167.55051760549392"
            ]
          },
          "metadata": {},
          "execution_count": 23
        }
      ]
    },
    {
      "cell_type": "code",
      "source": [
        "metode_kmeans.cluster_centers_"
      ],
      "metadata": {
        "colab": {
          "base_uri": "https://localhost:8080/"
        },
        "id": "3evacVnUUMR5",
        "outputId": "07927da7-2bec-4133-c27a-a362da4e86c2"
      },
      "execution_count": 24,
      "outputs": [
        {
          "output_type": "execute_result",
          "data": {
            "text/plain": [
              "array([[-0.77872836,  0.52766269],\n",
              "       [ 0.56940509, -1.02083385],\n",
              "       [ 0.41454432,  1.84948624],\n",
              "       [-0.96847681, -0.84232491],\n",
              "       [ 1.00121389,  0.31305553]])"
            ]
          },
          "metadata": {},
          "execution_count": 24
        }
      ]
    },
    {
      "cell_type": "code",
      "source": [
        "metode_kmeans.n_iter_"
      ],
      "metadata": {
        "colab": {
          "base_uri": "https://localhost:8080/"
        },
        "id": "NoWHmBQaURp2",
        "outputId": "96d58981-7c04-48de-c667-bdac82649212"
      },
      "execution_count": 25,
      "outputs": [
        {
          "output_type": "execute_result",
          "data": {
            "text/plain": [
              "17"
            ]
          },
          "metadata": {},
          "execution_count": 25
        }
      ]
    },
    {
      "cell_type": "code",
      "source": [
        "metode_kmeans.labels_"
      ],
      "metadata": {
        "colab": {
          "base_uri": "https://localhost:8080/"
        },
        "id": "SJNbkGhEWQRQ",
        "outputId": "20a9c75f-83f7-482a-ffaf-3c31abda6a3e"
      },
      "execution_count": 26,
      "outputs": [
        {
          "output_type": "execute_result",
          "data": {
            "text/plain": [
              "array([1, 1, 4, 0, 1, 4, 2, 2, 0, 0, 2, 1, 3, 0, 2, 1, 0, 3, 0, 3, 4, 4,\n",
              "       0, 4, 4, 4, 4, 4, 0, 3, 2, 2, 1, 0, 3, 0, 3, 1, 1, 1, 2, 3, 0, 4,\n",
              "       3, 3, 0, 4, 0, 4, 4, 4, 1, 4, 4, 0, 0, 0, 0, 4, 4, 1, 4, 3, 4, 3,\n",
              "       4, 0, 0, 3, 4, 0, 2, 0, 0, 4, 0, 1, 4, 1, 3, 4, 3, 4, 1, 4, 1, 3,\n",
              "       0, 2, 0, 1, 4, 3, 3, 0, 4, 1, 2, 1, 4, 4, 0, 3, 1, 3, 1, 1, 3, 0,\n",
              "       4, 3, 1, 4, 0, 2, 0, 4, 0, 0, 2, 3, 4, 2, 3, 3, 3, 0, 1, 1, 1, 1,\n",
              "       3, 1, 0, 1, 3, 4, 3, 1, 3, 1, 1, 4, 1, 1, 1, 2, 0, 3, 1, 2, 0, 1,\n",
              "       2, 0, 1, 0, 0, 4, 3, 1, 2, 1, 4, 1, 3, 4, 1, 0, 4, 1, 0, 1, 2, 3,\n",
              "       2, 4, 0, 0, 0, 0, 4, 1, 3, 3, 4, 3, 1, 1, 1, 1, 4, 3, 0, 3, 4, 0,\n",
              "       4, 3, 3, 0, 1, 4, 2, 0, 0, 0, 0, 1, 3, 1, 3, 0, 1, 1, 1, 0, 1, 1,\n",
              "       4, 0, 2, 0, 0, 1, 3, 4, 0, 4, 4, 2, 4, 0, 0, 1, 0, 0, 3, 4, 0, 3,\n",
              "       4, 0, 3, 4, 4, 1, 3, 3, 0, 0, 3, 4, 0, 2, 0, 1, 0, 0, 0, 0, 4, 3,\n",
              "       0, 4, 4, 1, 0, 0, 1, 1, 3, 2, 1, 1, 0, 1, 4, 0, 0, 3, 4, 4, 0, 0,\n",
              "       2, 2, 0, 4], dtype=int32)"
            ]
          },
          "metadata": {},
          "execution_count": 26
        }
      ]
    },
    {
      "cell_type": "code",
      "source": [
        "import numpy as np\n",
        "import matplotlib.pyplot as plt\n",
        "import pandas as pd\n",
        "\n"
      ],
      "metadata": {
        "id": "zjyCAIU6Wxmt"
      },
      "execution_count": 27,
      "outputs": []
    },
    {
      "cell_type": "code",
      "source": [],
      "metadata": {
        "id": "DvBn2AwbZbSb"
      },
      "execution_count": 27,
      "outputs": []
    },
    {
      "cell_type": "code",
      "source": [
        "\n",
        "color = np.array([\"Red\",\"Green\",\"Blue\",\"yellow\",\"brown\"])\n",
        "plt.subplot(1,2,2)\n",
        "plt.scatter(skala_fitur[:,0], skala_fitur[:,1], s=50, alpha=1, cmap='viridis', c=color[metode_kmeans.labels_])\n"
      ],
      "metadata": {
        "colab": {
          "base_uri": "https://localhost:8080/",
          "height": 482
        },
        "id": "tJyWKlbxZmqa",
        "outputId": "0b1a38d1-8722-4e92-869d-39143784e559"
      },
      "execution_count": 28,
      "outputs": [
        {
          "output_type": "stream",
          "name": "stderr",
          "text": [
            "<ipython-input-28-860e6561b51d>:3: UserWarning: No data for colormapping provided via 'c'. Parameters 'cmap' will be ignored\n",
            "  plt.scatter(skala_fitur[:,0], skala_fitur[:,1], s=50, alpha=1, cmap='viridis', c=color[metode_kmeans.labels_])\n"
          ]
        },
        {
          "output_type": "execute_result",
          "data": {
            "text/plain": [
              "<matplotlib.collections.PathCollection at 0x7f9c17779600>"
            ]
          },
          "metadata": {},
          "execution_count": 28
        },
        {
          "output_type": "display_data",
          "data": {
            "text/plain": [
              "<Figure size 640x480 with 1 Axes>"
            ],
            "image/png": "[encoded data removed]"
          },
          "metadata": {}
        }
      ]
    },
    {
      "cell_type": "code",
      "source": [],
      "metadata": {
        "id": "uoAIyQgVIubc"
      },
      "execution_count": 28,
      "outputs": []
    }
  ]
}